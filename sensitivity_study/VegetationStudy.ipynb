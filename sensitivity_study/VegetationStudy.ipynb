{
 "cells": [
  {
   "cell_type": "code",
   "execution_count": 2,
   "metadata": {},
   "outputs": [],
   "source": [
    "%matplotlib inline\n",
    "#from effective_quadratures.PolyParams import PolynomialParam\n",
    "#from effective_quadratures.PolyParentFile import PolyParent\n",
    "#from effective_quadratures.IndexSets import IndexSet\n",
    "#from effective_quadratures.Utils import column, evalfunction\n",
    "#import effective_quadratures.MatrixRoutines as mat\n",
    "#import effective_quadratures.ComputeStats as stats\n",
    "#from effective_quadratures.EffectiveQuadSubsampling import EffectiveSubsampling\n",
    "#import numpy as np\n",
    "#import matplotlib.pyplot as plt\n",
    "#from mpl_toolkits.mplot3d import Axes3D\n",
    "\n",
    "import numpy as np\n",
    "from equadratures import *\n",
    "import matplotlib.pyplot as plt\n",
    "from scipy.stats import linregress\n",
    "import os"
   ]
  },
  {
   "cell_type": "markdown",
   "metadata": {},
   "source": [
    "<h1> Vegetation UQ with Effective-Quadratures"
   ]
  },
  {
   "cell_type": "markdown",
   "metadata": {},
   "source": [
    "Consider a uniform variation in the following parameters:\n",
    "    \n",
    "$$\\begin{array}{lll} \\hline\n",
    "Variable & Range & Description \\\\ \\hline\n",
    "\\rho_{shoot} & [38.2, 250.4] & Shoot \\; density \\; (/m^2)\\\\ \n",
    "L & [0.157, 0.313] & Plant \\; length \\; (m)\\\\ \n",
    "d & [0.002, 0.01] & Diameter \\;  (m)\\\\ \n",
    "t & [0.0002, 0.001] & Thickness \\; (m)\\\\  \\hline\n",
    "\\end{array}$$"
   ]
  },
  {
   "cell_type": "markdown",
   "metadata": {},
   "source": [
    "Being by setting up the ranges for the four parameters"
   ]
  },
  {
   "cell_type": "code",
   "execution_count": 3,
   "metadata": {},
   "outputs": [
    {
     "ename": "NameError",
     "evalue": "name 'PolynomialParam' is not defined",
     "output_type": "error",
     "traceback": [
      "\u001b[0;31m---------------------------------------------------------------------------\u001b[0m",
      "\u001b[0;31mNameError\u001b[0m                                 Traceback (most recent call last)",
      "\u001b[0;32m<ipython-input-3-71d099eded34>\u001b[0m in \u001b[0;36m<module>\u001b[0;34m\u001b[0m\n\u001b[1;32m      1\u001b[0m \u001b[0mquadratic_pts\u001b[0m \u001b[0;34m=\u001b[0m \u001b[0;36m3\u001b[0m\u001b[0;34m\u001b[0m\u001b[0;34m\u001b[0m\u001b[0m\n\u001b[0;32m----> 2\u001b[0;31m \u001b[0mx1\u001b[0m \u001b[0;34m=\u001b[0m \u001b[0mPolynomialParam\u001b[0m\u001b[0;34m(\u001b[0m\u001b[0;34m\"Uniform\"\u001b[0m\u001b[0;34m,\u001b[0m \u001b[0;36m38.2\u001b[0m\u001b[0;34m,\u001b[0m \u001b[0;36m250.4\u001b[0m\u001b[0;34m,\u001b[0m \u001b[0;34m[\u001b[0m\u001b[0;34m]\u001b[0m\u001b[0;34m,\u001b[0m \u001b[0;34m[\u001b[0m\u001b[0;34m]\u001b[0m\u001b[0;34m,\u001b[0m \u001b[0;34m[\u001b[0m\u001b[0;34m]\u001b[0m\u001b[0;34m,\u001b[0m \u001b[0;36m3\u001b[0m\u001b[0;34m)\u001b[0m\u001b[0;34m\u001b[0m\u001b[0;34m\u001b[0m\u001b[0m\n\u001b[0m\u001b[1;32m      3\u001b[0m \u001b[0mx2\u001b[0m \u001b[0;34m=\u001b[0m \u001b[0mPolynomialParam\u001b[0m\u001b[0;34m(\u001b[0m\u001b[0;34m\"Uniform\"\u001b[0m\u001b[0;34m,\u001b[0m \u001b[0;36m0.157\u001b[0m\u001b[0;34m,\u001b[0m \u001b[0;36m0.313\u001b[0m\u001b[0;34m,\u001b[0m \u001b[0;34m[\u001b[0m\u001b[0;34m]\u001b[0m\u001b[0;34m,\u001b[0m \u001b[0;34m[\u001b[0m\u001b[0;34m]\u001b[0m\u001b[0;34m,\u001b[0m \u001b[0;34m[\u001b[0m\u001b[0;34m]\u001b[0m\u001b[0;34m,\u001b[0m \u001b[0;36m3\u001b[0m\u001b[0;34m)\u001b[0m\u001b[0;34m\u001b[0m\u001b[0;34m\u001b[0m\u001b[0m\n\u001b[1;32m      4\u001b[0m \u001b[0mx3\u001b[0m \u001b[0;34m=\u001b[0m \u001b[0mPolynomialParam\u001b[0m\u001b[0;34m(\u001b[0m\u001b[0;34m\"Uniform\"\u001b[0m\u001b[0;34m,\u001b[0m \u001b[0;36m0.002\u001b[0m\u001b[0;34m,\u001b[0m \u001b[0;36m0.01\u001b[0m\u001b[0;34m,\u001b[0m \u001b[0;34m[\u001b[0m\u001b[0;34m]\u001b[0m\u001b[0;34m,\u001b[0m \u001b[0;34m[\u001b[0m\u001b[0;34m]\u001b[0m\u001b[0;34m,\u001b[0m \u001b[0;34m[\u001b[0m\u001b[0;34m]\u001b[0m\u001b[0;34m,\u001b[0m \u001b[0;36m3\u001b[0m\u001b[0;34m)\u001b[0m\u001b[0;34m\u001b[0m\u001b[0;34m\u001b[0m\u001b[0m\n\u001b[1;32m      5\u001b[0m \u001b[0mx4\u001b[0m \u001b[0;34m=\u001b[0m \u001b[0mPolynomialParam\u001b[0m\u001b[0;34m(\u001b[0m\u001b[0;34m\"Uniform\"\u001b[0m\u001b[0;34m,\u001b[0m \u001b[0;36m0.0002\u001b[0m\u001b[0;34m,\u001b[0m \u001b[0;36m0.001\u001b[0m\u001b[0;34m,\u001b[0m \u001b[0;34m[\u001b[0m\u001b[0;34m]\u001b[0m\u001b[0;34m,\u001b[0m \u001b[0;34m[\u001b[0m\u001b[0;34m]\u001b[0m\u001b[0;34m,\u001b[0m \u001b[0;34m[\u001b[0m\u001b[0;34m]\u001b[0m\u001b[0;34m,\u001b[0m \u001b[0;36m3\u001b[0m\u001b[0;34m)\u001b[0m\u001b[0;34m\u001b[0m\u001b[0;34m\u001b[0m\u001b[0m\n",
      "\u001b[0;31mNameError\u001b[0m: name 'PolynomialParam' is not defined"
     ]
    }
   ],
   "source": [
    "quadratic_pts = 3\n",
    "x1 = PolynomialParam(\"Uniform\", 38.2, 250.4, [], [], [], 3)\n",
    "x2 = PolynomialParam(\"Uniform\", 0.157, 0.313, [], [], [], 3)\n",
    "x3 = PolynomialParam(\"Uniform\", 0.002, 0.01, [], [], [], 3)\n",
    "x4 = PolynomialParam(\"Uniform\", 0.0002, 0.001, [], [], [], 3)\n",
    "orders = [2,2,2,2]\n",
    "x1x2x3x4 = [x1, x2, x3, x4]"
   ]
  },
  {
   "cell_type": "markdown",
   "metadata": {},
   "source": [
    "Set the polynomial basis; this will dictate how many function evaluations we will require. Bear in mind that a quadratic in 4 dimensions requires $3^4=81$ points. To reduce the cost we will opt for a total order basis."
   ]
  },
  {
   "cell_type": "code",
   "execution_count": 3,
   "metadata": {},
   "outputs": [
    {
     "name": "stdout",
     "output_type": "stream",
     "text": [
      "[[ 0.  0.  0.  0.]\n",
      " [ 0.  0.  0.  1.]\n",
      " [ 0.  0.  0.  2.]\n",
      " [ 0.  0.  1.  0.]\n",
      " [ 0.  0.  1.  1.]\n",
      " [ 0.  0.  2.  0.]\n",
      " [ 0.  1.  0.  0.]\n",
      " [ 0.  1.  0.  1.]\n",
      " [ 0.  1.  1.  0.]\n",
      " [ 0.  2.  0.  0.]\n",
      " [ 1.  0.  0.  0.]\n",
      " [ 1.  0.  0.  1.]\n",
      " [ 1.  0.  1.  0.]\n",
      " [ 1.  1.  0.  0.]\n",
      " [ 2.  0.  0.  0.]]\n",
      "15\n"
     ]
    }
   ],
   "source": [
    "polybasis = IndexSet(\"total order\", orders)\n",
    "print IndexSet.getIndexSet(polybasis)\n",
    "maximum_number_of_evals = IndexSet.getCardinality(polybasis)\n",
    "print maximum_number_of_evals"
   ]
  },
  {
   "cell_type": "code",
   "execution_count": 6,
   "metadata": {},
   "outputs": [
    {
     "name": "stdout",
     "output_type": "stream",
     "text": [
      "[[  1.44300000e+02   2.35000000e-01   6.00000000e-03   6.00000000e-04]\n",
      " [  6.21152934e+01   1.74581460e-01   2.90161332e-03   6.00000000e-04]\n",
      " [  2.26484707e+02   2.35000000e-01   9.09838668e-03   2.90161332e-04]\n",
      " [  6.21152934e+01   2.95418540e-01   6.00000000e-03   9.09838668e-04]\n",
      " [  2.26484707e+02   1.74581460e-01   6.00000000e-03   9.09838668e-04]\n",
      " [  2.26484707e+02   2.35000000e-01   2.90161332e-03   2.90161332e-04]\n",
      " [  6.21152934e+01   2.35000000e-01   9.09838668e-03   2.90161332e-04]\n",
      " [  2.26484707e+02   2.95418540e-01   6.00000000e-03   9.09838668e-04]\n",
      " [  1.44300000e+02   2.95418540e-01   6.00000000e-03   2.90161332e-04]\n",
      " [  1.44300000e+02   2.35000000e-01   9.09838668e-03   9.09838668e-04]\n",
      " [  1.44300000e+02   1.74581460e-01   6.00000000e-03   2.90161332e-04]\n",
      " [  1.44300000e+02   2.35000000e-01   2.90161332e-03   9.09838668e-04]\n",
      " [  6.21152934e+01   2.35000000e-01   2.90161332e-03   2.90161332e-04]\n",
      " [  1.44300000e+02   2.95418540e-01   2.90161332e-03   6.00000000e-04]\n",
      " [  6.21152934e+01   1.74581460e-01   6.00000000e-03   9.09838668e-04]]\n"
     ]
    }
   ],
   "source": [
    "effectiveQuads = EffectiveSubsampling(x1x2x3x4, polybasis, 0)\n",
    "A, esquad_pts, W, indices = EffectiveSubsampling.getAsubsampled(effectiveQuads, maximum_number_of_evals)\n",
    "print esquad_pts"
   ]
  },
  {
   "cell_type": "markdown",
   "metadata": {
    "collapsed": true
   },
   "source": [
    "Taking the output from the text file for dissipation, we have:"
   ]
  },
  {
   "cell_type": "code",
   "execution_count": 20,
   "metadata": {},
   "outputs": [
    {
     "name": "stdout",
     "output_type": "stream",
     "text": [
      "[[ 24.81701196  23.77704716  24.61316731  24.97236981  24.69208948\n",
      "   23.70159144  24.61804886  25.2502586   24.576765    25.16563862\n",
      "   23.79518376  24.54020579  23.72049204  24.51404966  24.4823907 ]]\n"
     ]
    }
   ],
   "source": [
    "#Output = [15.9881,   16.5091 ,  16.0162   ,15.9950,   16.0310  , 16.4592  , 16.0958  , 15.8507 ,  16.0757  , \n",
    "#          15.9252  , 16.4301 ,  16.1259 ,  16.4682 ,  16.0501  , 16.2200]\n",
    "Output_dissip = [24.8170119614, 23.7770471604, 24.6131673073, 24.9723698096, 24.6920894782, 23.7015914415, 24.6180488646, \n",
    "          25.2502586048, 24.576764997, 25.1656386185, 23.7951837649, 24.540205788, 23.7204920408, 24.514049663, \n",
    "         24.4823906956] \n",
    "\n",
    "Output_dissip = np.mat(Output_dissip)"
   ]
  },
  {
   "cell_type": "code",
   "execution_count": 17,
   "metadata": {},
   "outputs": [],
   "source": [
    "Output_dissip = Output_dissip.T\n",
    "b = W * Output_dissip\n",
    "A, normalizations = mat.rowNormalize(A)\n",
    "b = np.dot(normalizations, b)"
   ]
  },
  {
   "cell_type": "code",
   "execution_count": 18,
   "metadata": {},
   "outputs": [],
   "source": [
    "xn = mat.solveLeastSquares(A, b)\n",
    "mean, variance = stats.compute_mean_variance(xn.T, IndexSet.getIndexSet(polybasis))\n",
    "Sobol = stats.compute_first_order_Sobol_indices(xn.T, IndexSet.getIndexSet(polybasis))"
   ]
  },
  {
   "cell_type": "code",
   "execution_count": 19,
   "metadata": {},
   "outputs": [
    {
     "name": "stdout",
     "output_type": "stream",
     "text": [
      "MEAN & VARIANCE IN DISSIPATION\n",
      "2.79342760885 0.0325064659306\n",
      "FIRST ORDER SOBOL SENSITIVITY INDICES\n",
      "[[ 0.0162397   0.31783944  0.3315129   0.33276632]]\n"
     ]
    }
   ],
   "source": [
    "print 'MEAN & VARIANCE IN DISSIPATION'\n",
    "print mean, variance\n",
    "print 'FIRST ORDER SOBOL SENSITIVITY INDICES FOR DISSIPATION'\n",
    "print Sobol"
   ]
  },
  {
   "cell_type": "code",
   "execution_count": 25,
   "metadata": {
    "collapsed": true
   },
   "outputs": [],
   "source": [
    "Output_wl = [0.086849769577, 0.071449350565, 0.081941329874, 0.0897887852043, 0.0852774027735, 0.0701932846569, \n",
    "             0.0821369960904, 0.0950508601964, 0.081545121036, 0.0934180691838, 0.071064000949, 0.083252047188, \n",
    "             0.070388467051, 0.0827063908, 0.082069950178] \n",
    "\n",
    "Output_wl = np.mat(Output_wl)"
   ]
  },
  {
   "cell_type": "code",
   "execution_count": 26,
   "metadata": {
    "collapsed": true
   },
   "outputs": [],
   "source": [
    "Output_wl = Output_wl.T\n",
    "b = W * Output_wl\n",
    "A, normalizations = mat.rowNormalize(A)\n",
    "b = np.dot(normalizations, b)"
   ]
  },
  {
   "cell_type": "code",
   "execution_count": 27,
   "metadata": {
    "collapsed": true
   },
   "outputs": [],
   "source": [
    "xn = mat.solveLeastSquares(A, b)\n",
    "mean, variance = stats.compute_mean_variance(xn.T, IndexSet.getIndexSet(polybasis))\n",
    "Sobol = stats.compute_first_order_Sobol_indices(xn.T, IndexSet.getIndexSet(polybasis))"
   ]
  },
  {
   "cell_type": "code",
   "execution_count": 28,
   "metadata": {},
   "outputs": [
    {
     "name": "stdout",
     "output_type": "stream",
     "text": [
      "MEAN & VARIANCE IN WATER LEVEL\n",
      "0.00945510511158 1.20472293806e-06\n",
      "FIRST ORDER SOBOL SENSITIVITY INDICES FOR WATER LEVEL\n",
      "[[ 0.0095148   0.28265296  0.32349407  0.37760789]]\n"
     ]
    }
   ],
   "source": [
    "print 'MEAN & VARIANCE IN WATER LEVEL'\n",
    "print mean, variance\n",
    "print 'FIRST ORDER SOBOL SENSITIVITY INDICES FOR WATER LEVEL'\n",
    "print Sobol"
   ]
  },
  {
   "cell_type": "code",
   "execution_count": 29,
   "metadata": {
    "collapsed": true
   },
   "outputs": [],
   "source": [
    "Output_ke=[9.28511113565, 8.59116120376, 9.20725286751, 9.22159875619, 9.19565064461, 8.5196991906, 9.15223514391, \n",
    "           9.38391902559, 9.15666537065, 9.31338865761, 8.57543965821, 9.0772799181, 8.53049860903, 9.17308676441, \n",
    "           8.98211942423]\n",
    "Output_ke = np.mat(Output_ke)"
   ]
  },
  {
   "cell_type": "code",
   "execution_count": 30,
   "metadata": {
    "collapsed": true
   },
   "outputs": [],
   "source": [
    "Output_ke = Output_ke.T\n",
    "b = W * Output_ke\n",
    "A, normalizations = mat.rowNormalize(A)\n",
    "b = np.dot(normalizations, b)"
   ]
  },
  {
   "cell_type": "code",
   "execution_count": 31,
   "metadata": {
    "collapsed": true
   },
   "outputs": [],
   "source": [
    "xn = mat.solveLeastSquares(A, b)\n",
    "mean, variance = stats.compute_mean_variance(xn.T, IndexSet.getIndexSet(polybasis))\n",
    "Sobol = stats.compute_first_order_Sobol_indices(xn.T, IndexSet.getIndexSet(polybasis))"
   ]
  },
  {
   "cell_type": "code",
   "execution_count": 32,
   "metadata": {},
   "outputs": [
    {
     "name": "stdout",
     "output_type": "stream",
     "text": [
      "MEAN & VARIANCE IN KE CHANGE\n",
      "1.03448993893 0.00584536840325\n",
      "FIRST ORDER SOBOL SENSITIVITY INDICES FOR KE CHANGE\n",
      "[[ 0.01472562  0.29324053  0.31308905  0.36196057]]\n"
     ]
    }
   ],
   "source": [
    "print 'MEAN & VARIANCE IN KE CHANGE'\n",
    "print mean, variance\n",
    "print 'FIRST ORDER SOBOL SENSITIVITY INDICES FOR KE CHANGE'\n",
    "print Sobol"
   ]
  }
 ],
 "metadata": {
  "kernelspec": {
   "display_name": "Python 3",
   "language": "python",
   "name": "python3"
  },
  "language_info": {
   "codemirror_mode": {
    "name": "ipython",
    "version": 3
   },
   "file_extension": ".py",
   "mimetype": "text/x-python",
   "name": "python",
   "nbconvert_exporter": "python",
   "pygments_lexer": "ipython3",
   "version": "3.7.4"
  }
 },
 "nbformat": 4,
 "nbformat_minor": 1
}
